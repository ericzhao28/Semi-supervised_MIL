{
 "cells": [
  {
   "cell_type": "code",
   "execution_count": 64,
   "metadata": {},
   "outputs": [],
   "source": [
    "import keras\n",
    "import tensorflow as tf\n",
    "import matplotlib.pyplot as plt\n",
    "import timeit\n",
    "from keras.models import Sequential, Model\n",
    "from keras.layers import Dense, Activation, Conv2D, CuDNNGRU, CuDNNLSTM, \\\n",
    "    TimeDistributed, Reshape, Input, Dropout, RepeatVector, MaxPooling2D, \\\n",
    "    UpSampling2D, Cropping2D\n",
    "from keras.activations import relu\n",
    "from keras.preprocessing.image import ImageDataGenerator"
   ]
  },
  {
   "cell_type": "code",
   "execution_count": 65,
   "metadata": {},
   "outputs": [],
   "source": [
    "T_pred = 16\n",
    "T_in = 16\n",
    "vid_l = T_in + T_pred\n",
    "IMG_H = 125\n",
    "IMG_W = 125\n",
    "IMG_CH = 3"
   ]
  },
  {
   "cell_type": "code",
   "execution_count": 66,
   "metadata": {},
   "outputs": [
    {
     "name": "stdout",
     "output_type": "stream",
     "text": [
      "(?, 16, 125, 125, 3)\n",
      "(?, 16, 61, 61, 12)\n",
      "(?, 16, 29, 29, 24)\n",
      "(?, 16, 14, 14, 24)\n",
      "(?, 16, 5, 5, 42)\n"
     ]
    }
   ],
   "source": [
    "TD = TimeDistributed\n",
    "conv = lambda x: Conv2D(filters=x, kernel_size=(5,5), strides=(2, 2), padding='valid',\n",
    "                        data_format=None, dilation_rate=(1, 1), use_bias=True,\n",
    "                        kernel_initializer='glorot_uniform', bias_initializer='zeros')\n",
    "\n",
    "inputs = Input(shape=(T_in, IMG_H, IMG_W, IMG_CH))\n",
    "\n",
    "# Apply convolutions on the initial image input with increasing channel size.\n",
    "print(inputs.shape)\n",
    "conv_x = TD(conv(12))(inputs)\n",
    "conv_x = Activation(\"relu\")(conv_x)\n",
    "print(conv_x.shape)\n",
    "conv_x = TD(conv(24))(conv_x)\n",
    "conv_x = Activation(\"relu\")(conv_x)\n",
    "print(conv_x.shape)\n",
    "conv_x = TD(MaxPooling2D(pool_size=(2, 2)))(conv_x)\n",
    "print(conv_x.shape)\n",
    "conv_x = TD(conv(42))(conv_x)\n",
    "conv_x = Activation(\"relu\")(conv_x)\n",
    "print(conv_x.shape)\n",
    "\n",
    "# We pass the flattened convolution output into a CuDNN-optimized LSTM.\n",
    "# Outputs are disregarded for training but form the \"encoded\" representation.\n",
    "enc_x = Reshape((T_in, -1))(conv_x)\n",
    "encoded_output, hidden, cell = CuDNNLSTM(512, return_state=True, return_sequences=False)(enc_x)\n",
    "\n",
    "# Decode model output.\n",
    "dec_raw_x = RepeatVector(T_pred)(encoded_output) # Input(shape=(None, 512,))\n",
    "dec_x, _, _ = CuDNNLSTM(512, return_state=True, return_sequences=True)(dec_raw_x, initial_state=[hidden, cell])\n",
    "\n",
    "dec_x = TD(Dropout(0.5))(dec_x)\n",
    "dec_x = TD(Dense(2048))(dec_x)\n",
    "dec_x = TD(Activation(\"relu\"))(dec_x)\n",
    "\n",
    "dec_x = TD(Dropout(0.5))(dec_x)\n",
    "dec_x = TD(Dense(IMG_H * IMG_W * IMG_CH))(dec_x)\n",
    "predictions = TD(Activation(\"relu\"))(dec_x)\n",
    "predictions = TD(Reshape((IMG_H, IMG_W, IMG_CH)))(predictions)\n",
    "\n",
    "\n",
    "model = Model(inputs=inputs, outputs=predictions)"
   ]
  },
  {
   "cell_type": "code",
   "execution_count": 67,
   "metadata": {},
   "outputs": [
    {
     "name": "stdout",
     "output_type": "stream",
     "text": [
      "Epoch 1/10\n",
      "512/512 [==============================] - 14s 28ms/step - loss: 4969.0971\n",
      "Epoch 2/10\n",
      "512/512 [==============================] - 9s 17ms/step - loss: 1033.9331\n",
      "Epoch 3/10\n",
      "512/512 [==============================] - 10s 19ms/step - loss: 726.4277\n",
      "Epoch 4/10\n",
      "512/512 [==============================] - 10s 20ms/step - loss: 684.1950\n",
      "Epoch 5/10\n",
      "512/512 [==============================] - 10s 19ms/step - loss: 675.5536\n",
      "Epoch 6/10\n",
      "512/512 [==============================] - 9s 18ms/step - loss: 670.4887\n",
      "Epoch 7/10\n",
      "512/512 [==============================] - 9s 17ms/step - loss: 670.4278\n",
      "Epoch 8/10\n",
      "512/512 [==============================] - 9s 17ms/step - loss: 672.9116\n",
      "Epoch 9/10\n",
      "512/512 [==============================] - 9s 18ms/step - loss: 672.6358\n",
      "Epoch 10/10\n",
      "512/512 [==============================] - 9s 17ms/step - loss: 672.5628\n"
     ]
    },
    {
     "data": {
      "text/plain": [
       "<keras.callbacks.History at 0x7f22d1e6ceb8>"
      ]
     },
     "execution_count": 67,
     "metadata": {},
     "output_type": "execute_result"
    }
   ],
   "source": [
    "import h5py\n",
    "\n",
    "SAVES_PATH = \"/home/ubuntu/saves/\"\n",
    "BATCH = 32\n",
    "\n",
    "with h5py.File('small_dataset.h5', 'r') as f:\n",
    "    X = f['X'][:]\n",
    "    Y = f['Y'][:]\n",
    "\n",
    "model.compile(optimizer='adam', loss='mean_squared_error')\n",
    "model.fit(X, Y, batch_size=BATCH, epochs=10)"
   ]
  },
  {
   "cell_type": "code",
   "execution_count": 3,
   "metadata": {},
   "outputs": [
    {
     "ename": "NameError",
     "evalue": "name 'model' is not defined",
     "output_type": "error",
     "traceback": [
      "\u001b[0;31m---------------------------------------------------------------------------\u001b[0m",
      "\u001b[0;31mNameError\u001b[0m                                 Traceback (most recent call last)",
      "\u001b[0;32m<ipython-input-3-f45bb8bf2f5c>\u001b[0m in \u001b[0;36m<module>\u001b[0;34m()\u001b[0m\n\u001b[0;32m----> 1\u001b[0;31m \u001b[0mpreds\u001b[0m \u001b[0;34m=\u001b[0m \u001b[0mmodel\u001b[0m\u001b[0;34m.\u001b[0m\u001b[0mpredict\u001b[0m\u001b[0;34m(\u001b[0m\u001b[0mnp\u001b[0m\u001b[0;34m.\u001b[0m\u001b[0marray\u001b[0m\u001b[0;34m(\u001b[0m\u001b[0mX\u001b[0m\u001b[0;34m[\u001b[0m\u001b[0;34m-\u001b[0m\u001b[0;36m64\u001b[0m\u001b[0;34m:\u001b[0m\u001b[0;34m]\u001b[0m\u001b[0;34m)\u001b[0m\u001b[0;34m)\u001b[0m\u001b[0;34m\u001b[0m\u001b[0m\n\u001b[0m\u001b[1;32m      2\u001b[0m \u001b[0;32mimport\u001b[0m \u001b[0mmatplotlib\u001b[0m\u001b[0;34m.\u001b[0m\u001b[0mpyplot\u001b[0m \u001b[0;32mas\u001b[0m \u001b[0mplt\u001b[0m\u001b[0;34m\u001b[0m\u001b[0m\n\u001b[1;32m      3\u001b[0m \u001b[0mplt\u001b[0m\u001b[0;34m.\u001b[0m\u001b[0mimshow\u001b[0m\u001b[0;34m(\u001b[0m\u001b[0mpreds\u001b[0m\u001b[0;34m[\u001b[0m\u001b[0;34m-\u001b[0m\u001b[0;36m1\u001b[0m\u001b[0;34m]\u001b[0m\u001b[0;34m[\u001b[0m\u001b[0;36m0\u001b[0m\u001b[0;34m]\u001b[0m\u001b[0;34m)\u001b[0m\u001b[0;34m\u001b[0m\u001b[0m\n\u001b[1;32m      4\u001b[0m \u001b[0mplt\u001b[0m\u001b[0;34m.\u001b[0m\u001b[0mshow\u001b[0m\u001b[0;34m(\u001b[0m\u001b[0;34m)\u001b[0m\u001b[0;34m\u001b[0m\u001b[0m\n",
      "\u001b[0;31mNameError\u001b[0m: name 'model' is not defined"
     ]
    }
   ],
   "source": [
    "preds = model.predict(np.array(X[-64:]))\n",
    "import matplotlib.pyplot as plt\n",
    "import numpy as np\n",
    "plt.imshow(np.array(preds[-1][0], dtype=np.uint8))\n",
    "plt.show()"
   ]
  },
  {
   "cell_type": "code",
   "execution_count": 1,
   "metadata": {},
   "outputs": [
    {
     "name": "stderr",
     "output_type": "stream",
     "text": [
      "/home/ubuntu/anaconda3/envs/tensorflow_p36/lib/python3.6/site-packages/h5py/__init__.py:36: FutureWarning: Conversion of the second argument of issubdtype from `float` to `np.floating` is deprecated. In future, it will be treated as `np.float64 == np.dtype(float).type`.\n",
      "  from ._conv import register_converters as _register_converters\n"
     ]
    }
   ],
   "source": [
    "import h5py\n",
    "SAVES_PATH = \"/home/ubuntu/saves/\"\n",
    "BATCH = 64\n",
    "\n",
    "with h5py.File('dataset.h5', 'r') as f:\n",
    "    X = f['X'][0]/255\n",
    "    Y = f['Y'][0]/255"
   ]
  },
  {
   "cell_type": "code",
   "execution_count": 5,
   "metadata": {},
   "outputs": [
    {
     "ename": "NameError",
     "evalue": "name 'np' is not defined",
     "output_type": "error",
     "traceback": [
      "\u001b[0;31m---------------------------------------------------------------------------\u001b[0m",
      "\u001b[0;31mNameError\u001b[0m                                 Traceback (most recent call last)",
      "\u001b[0;32m<ipython-input-5-692db6aafeb6>\u001b[0m in \u001b[0;36m<module>\u001b[0;34m()\u001b[0m\n\u001b[1;32m      1\u001b[0m \u001b[0;32mimport\u001b[0m \u001b[0mnumpy\u001b[0m \u001b[0;32mas\u001b[0m \u001b[0mNP\u001b[0m\u001b[0;34m\u001b[0m\u001b[0m\n\u001b[0;32m----> 2\u001b[0;31m \u001b[0mX\u001b[0m \u001b[0;34m=\u001b[0m \u001b[0mnp\u001b[0m\u001b[0;34m.\u001b[0m\u001b[0mdivide\u001b[0m\u001b[0;34m(\u001b[0m\u001b[0mX\u001b[0m\u001b[0;34m,\u001b[0m \u001b[0;36m255\u001b[0m\u001b[0;34m)\u001b[0m\u001b[0;34m\u001b[0m\u001b[0m\n\u001b[0m\u001b[1;32m      3\u001b[0m \u001b[0mY\u001b[0m \u001b[0;34m=\u001b[0m \u001b[0mnp\u001b[0m\u001b[0;34m.\u001b[0m\u001b[0mdivide\u001b[0m\u001b[0;34m(\u001b[0m\u001b[0mY\u001b[0m\u001b[0;34m,\u001b[0m \u001b[0;36m255\u001b[0m\u001b[0;34m)\u001b[0m\u001b[0;34m\u001b[0m\u001b[0m\n",
      "\u001b[0;31mNameError\u001b[0m: name 'np' is not defined"
     ]
    }
   ],
   "source": [
    "X"
   ]
  },
  {
   "cell_type": "code",
   "execution_count": null,
   "metadata": {},
   "outputs": [],
   "source": []
  }
 ],
 "metadata": {
  "kernelspec": {
   "display_name": "Environment (conda_tensorflow_p36)",
   "language": "python",
   "name": "conda_tensorflow_p36"
  },
  "language_info": {
   "codemirror_mode": {
    "name": "ipython",
    "version": 3
   },
   "file_extension": ".py",
   "mimetype": "text/x-python",
   "name": "python",
   "nbconvert_exporter": "python",
   "pygments_lexer": "ipython3",
   "version": "3.6.4"
  }
 },
 "nbformat": 4,
 "nbformat_minor": 2
}
