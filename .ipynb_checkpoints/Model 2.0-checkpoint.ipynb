{
 "cells": [
  {
   "cell_type": "code",
   "execution_count": 1,
   "metadata": {},
   "outputs": [
    {
     "name": "stderr",
     "output_type": "stream",
     "text": [
      "/home/ubuntu/anaconda3/envs/tensorflow_p36/lib/python3.6/site-packages/h5py/__init__.py:36: FutureWarning: Conversion of the second argument of issubdtype from `float` to `np.floating` is deprecated. In future, it will be treated as `np.float64 == np.dtype(float).type`.\n",
      "  from ._conv import register_converters as _register_converters\n"
     ]
    }
   ],
   "source": [
    "import h5py\n",
    "import numpy as np\n",
    "SAVES_PATH = \"/home/ubuntu/saves/\"\n",
    "BATCH = 64\n",
    "\n",
    "def get_first():\n",
    "  with h5py.File('dataset.h5', 'r') as f:\n",
    "      X = np.array(f['X'][:8384], dtype=np.float32)\n",
    "      np.divide(X, 255, out=X)\n",
    "      Y = np.array(f['Y'][:8384], dtype=np.float32)\n",
    "      np.divide(Y, 255, out=Y)\n",
    "  return X, Y\n",
    "\n",
    "def get_second():\n",
    "  with h5py.File('dataset.h5', 'r') as f:\n",
    "      X = np.array(f['X'][8384:8384*2], dtype=np.float32)\n",
    "      np.divide(X, 255, out=X)\n",
    "      Y = np.array(f['Y'][8384:8384*2], dtype=np.float32)\n",
    "      np.divide(Y, 255, out=Y)\n",
    "  return X, Y\n",
    "\n",
    "def get_third():\n",
    "  with h5py.File('dataset.h5', 'r') as f:\n",
    "      X = np.array(f['X'][8384*2:], dtype=np.float32)\n",
    "      np.divide(X, 255, out=X)\n",
    "      Y = np.array(f['Y'][8384*2:], dtype=np.float32)\n",
    "      np.divide(Y, 255, out=Y)\n",
    "  return X, Y"
   ]
  },
  {
   "cell_type": "code",
   "execution_count": 2,
   "metadata": {},
   "outputs": [
    {
     "name": "stderr",
     "output_type": "stream",
     "text": [
      "Using TensorFlow backend.\n",
      "/home/ubuntu/anaconda3/envs/tensorflow_p36/lib/python3.6/site-packages/matplotlib/__init__.py:1067: UserWarning: Duplicate key in file \"/home/ubuntu/.config/matplotlib/matplotlibrc\", line #2\n",
      "  (fname, cnt))\n",
      "/home/ubuntu/anaconda3/envs/tensorflow_p36/lib/python3.6/site-packages/matplotlib/__init__.py:1067: UserWarning: Duplicate key in file \"/home/ubuntu/.config/matplotlib/matplotlibrc\", line #3\n",
      "  (fname, cnt))\n"
     ]
    }
   ],
   "source": [
    "import keras\n",
    "from keras.optimizers import SGD, Adam, RMSprop\n",
    "import tensorflow as tf\n",
    "import matplotlib.pyplot as plt\n",
    "import timeit\n",
    "from keras.models import Sequential, Model\n",
    "from keras.layers import Dense, Activation, Conv2D, CuDNNGRU, CuDNNLSTM, \\\n",
    "    TimeDistributed, Reshape, Input, Dropout, RepeatVector, MaxPooling2D, \\\n",
    "    UpSampling2D, Cropping2D\n",
    "from keras.activations import relu"
   ]
  },
  {
   "cell_type": "code",
   "execution_count": 3,
   "metadata": {},
   "outputs": [],
   "source": [
    "T_pred = 16\n",
    "T_in = 16\n",
    "vid_l = T_in + T_pred\n",
    "IMG_H = 125\n",
    "IMG_W = 125\n",
    "IMG_CH = 3"
   ]
  },
  {
   "cell_type": "code",
   "execution_count": 4,
   "metadata": {},
   "outputs": [
    {
     "name": "stdout",
     "output_type": "stream",
     "text": [
      "Exit initial conv:  (?, 16, 3, 3, 128)\n",
      "Exit seq2seq:  (?, 16, 8, 8, 16)\n",
      "(?, 16, 18, 18, 64)\n",
      "(?, 16, 45, 45, 64)\n",
      "(?, 16, 126, 126, 32)\n",
      "Final shape: (?, 16, 125, 125, 3)\n"
     ]
    }
   ],
   "source": [
    "TD = TimeDistributed\n",
    "\n",
    "inputs = Input(shape=(T_in, IMG_H, IMG_W, IMG_CH))\n",
    "\n",
    "# Apply convolutions on the initial image input with increasing channel size.\n",
    "conv_x = TD(Conv2D(32, kernel_size=(3, 3), strides=(2, 2), activation='relu'))(inputs)\n",
    "conv_x = TD(MaxPooling2D(pool_size=(2, 2)))(conv_x)\n",
    "conv_x = TD(Conv2D(64, kernel_size=(3, 3), strides=(2, 2), activation='relu'))(conv_x)\n",
    "conv_x = TD(MaxPooling2D(pool_size=(2, 2)))(conv_x)\n",
    "conv_x = TD(Conv2D(128, kernel_size=(3, 3), strides=(2, 2), activation='relu'))(conv_x)\n",
    "print(\"Exit initial conv: \", conv_x.shape)\n",
    "\n",
    "# We pass the flattened convolution output into a CuDNN-optimized LSTM.\n",
    "# Outputs are disregarded for training but form the \"encoded\" representation.\n",
    "enc_x = Reshape((T_in, -1))(conv_x)\n",
    "encoded_output, hidden, cell = CuDNNLSTM(1024, return_state=True, return_sequences=False)(enc_x)\n",
    "\n",
    "# Decode model output.\n",
    "dec_raw_x = RepeatVector(T_pred)(encoded_output) # Input(shape=(None, 512,))\n",
    "dec_x, _, _ = CuDNNLSTM(1024, return_state=True, return_sequences=True)(dec_raw_x, initial_state=[hidden, cell])\n",
    "dec_x = TD(Reshape((8, 8, 16)))(dec_x)\n",
    "print(\"Exit seq2seq: \", dec_x.shape)\n",
    "\n",
    "# Upsample\n",
    "dec_x = TD(Conv2D(64, kernel_size=(3, 3), strides=(1,1), activation='relu'))(dec_x)\n",
    "dec_x = TD(UpSampling2D(size=(3, 3)))(dec_x)\n",
    "print(dec_x.shape)\n",
    "dec_x = TD(Conv2D(64, kernel_size=(4, 4), strides=(1,1), activation='relu'))(dec_x)\n",
    "dec_x = TD(UpSampling2D(size=(3, 3)))(dec_x)\n",
    "print(dec_x.shape)\n",
    "dec_x = TD(Conv2D(32, kernel_size=(4, 4), strides=(1,1), activation='relu'))(dec_x)\n",
    "dec_x = TD(UpSampling2D(size=(3, 3)))(dec_x)\n",
    "print(dec_x.shape)\n",
    "\n",
    "predictions = TD(Conv2D(3, kernel_size=(2,2), strides=(1,1), activation='sigmoid'))(dec_x)\n",
    "print(\"Final shape:\", predictions.shape)\n",
    "\n",
    "\n",
    "model = Model(inputs=inputs, outputs=predictions)"
   ]
  },
  {
   "cell_type": "code",
   "execution_count": 5,
   "metadata": {},
   "outputs": [
    {
     "name": "stdout",
     "output_type": "stream",
     "text": [
      "Epoch 1/3\n",
      "736/736 [==============================] - 29s 39ms/step - loss: 0.4636\n",
      "Epoch 2/3\n",
      "736/736 [==============================] - 22s 30ms/step - loss: 0.4621\n",
      "Epoch 3/3\n",
      "736/736 [==============================] - 22s 30ms/step - loss: 0.4615\n"
     ]
    }
   ],
   "source": [
    "# X, Y = get_first()\n",
    "# model.compile(optimizer=RMSprop(0.002), loss='binary_crossentropy')\n",
    "# model.fit(X, Y, batch_size=32, epochs=3, shuffle=True)\n",
    "# del(X)\n",
    "# del(Y)\n",
    "model.load_weights(\"model_weights_2.h5\")\n",
    "X, Y = get_third()\n",
    "model.compile(optimizer=RMSprop(0.002), loss='binary_crossentropy')\n",
    "model.fit(X, Y, batch_size=32, epochs=3, shuffle=True)\n",
    "model.save_weights(\"model_weights_3.h5\")"
   ]
  },
  {
   "cell_type": "code",
   "execution_count": null,
   "metadata": {},
   "outputs": [],
   "source": [
    "import numpy as np\n",
    "import matplotlib.pyplot as plt\n",
    "plt.imshow(np.array(Y[1][0] * 255, dtype=np.uint8))\n",
    "plt.show()\n",
    "plt.imshow(np.array(Y[1][15] * 255, dtype=np.uint8))\n",
    "plt.show()\n",
    "preds = model.predict(np.array(X[0:2]))\n",
    "plt.imshow(np.array(preds[1][0] * 255, dtype=np.uint8))\n",
    "plt.show()\n",
    "plt.imshow(np.array(preds[1][15] * 255, dtype=np.uint8))\n",
    "plt.show()\n",
    "plt.imshow(np.array(preds[1][15] * 255 - preds[1][0] * 255, dtype=np.uint8))\n",
    "plt.show()"
   ]
  },
  {
   "cell_type": "markdown",
   "metadata": {},
   "source": [
    "3x3 32-channel Conv2D\n",
    "2x2 MaxPooling2D\n",
    "3x3 64-channel Conv2D\n",
    "2x2 MaxPooling2D\n",
    "3x3 128-channel Conv2D\n",
    "\n",
    "1024-hidden LSTM\n",
    "1024-hidden LSTM\n",
    "\n",
    "3x3 64-channel Conv2D\n",
    "3x3 UpSampling\n",
    "4x4 64-channel Conv2D\n",
    "3x3 UpSampling\n",
    "4x4 32-channel Conv2D\n",
    "3x3 UpSampling\n",
    "2x2 3-channel Conv2D"
   ]
  },
  {
   "cell_type": "code",
   "execution_count": null,
   "metadata": {},
   "outputs": [],
   "source": []
  }
 ],
 "metadata": {
  "kernelspec": {
   "display_name": "Environment (conda_tensorflow_p36)",
   "language": "python",
   "name": "conda_tensorflow_p36"
  },
  "language_info": {
   "codemirror_mode": {
    "name": "ipython",
    "version": 3
   },
   "file_extension": ".py",
   "mimetype": "text/x-python",
   "name": "python",
   "nbconvert_exporter": "python",
   "pygments_lexer": "ipython3",
   "version": "3.6.4"
  }
 },
 "nbformat": 4,
 "nbformat_minor": 2
}
