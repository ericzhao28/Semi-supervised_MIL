{
 "cells": [
  {
   "cell_type": "code",
   "execution_count": null,
   "metadata": {},
   "outputs": [],
   "source": [
    "import h5py\n",
    "import numpy as np\n",
    "SAVES_PATH = \"/home/ubuntu/saves/\"\n",
    "BATCH = 64\n",
    "\n",
    "with h5py.File('dataset.h5', 'r') as f:\n",
    "    X = np.array(f['X'][:8192], dtype=np.float32)\n",
    "    Y = np.array(f['Y'][:8192], dtype=np.float32)"
   ]
  },
  {
   "cell_type": "code",
   "execution_count": null,
   "metadata": {},
   "outputs": [],
   "source": [
    "X = np.divide(X, 255)\n",
    "Y = np.divide(Y, 255)"
   ]
  },
  {
   "cell_type": "code",
   "execution_count": null,
   "metadata": {},
   "outputs": [],
   "source": [
    "import keras\n",
    "from keras.optimizers import SGD, Adam, RMSprop\n",
    "import tensorflow as tf\n",
    "import matplotlib.pyplot as plt\n",
    "import timeit\n",
    "from keras.models import Sequential, Model\n",
    "from keras.layers import Dense, Activation, Conv2D, CuDNNGRU, CuDNNLSTM, \\\n",
    "    TimeDistributed, Reshape, Input, Dropout, RepeatVector, MaxPooling2D, \\\n",
    "    UpSampling2D, Cropping2D\n",
    "from keras.activations import relu"
   ]
  },
  {
   "cell_type": "code",
   "execution_count": null,
   "metadata": {},
   "outputs": [],
   "source": [
    "T_pred = 16\n",
    "T_in = 16\n",
    "vid_l = T_in + T_pred\n",
    "IMG_H = 125\n",
    "IMG_W = 125\n",
    "IMG_CH = 3"
   ]
  },
  {
   "cell_type": "code",
   "execution_count": null,
   "metadata": {},
   "outputs": [],
   "source": [
    "TD = TimeDistributed\n",
    "\n",
    "inputs = Input(shape=(T_in, IMG_H, IMG_W, IMG_CH))\n",
    "\n",
    "# Apply convolutions on the initial image input with increasing channel size.\n",
    "conv_x = TD(Conv2D(32, kernel_size=(3, 3), strides=(2, 2), activation='relu'))(inputs)\n",
    "conv_x = TD(MaxPooling2D(pool_size=(2, 2)))(conv_x)\n",
    "conv_x = TD(Conv2D(64, kernel_size=(3, 3), strides=(2, 2), activation='relu'))(conv_x)\n",
    "conv_x = TD(MaxPooling2D(pool_size=(2, 2)))(conv_x)\n",
    "conv_x = TD(Conv2D(128, kernel_size=(3, 3), strides=(2, 2), activation='relu'))(conv_x)\n",
    "print(\"Exit initial conv: \", conv_x.shape)\n",
    "\n",
    "# We pass the flattened convolution output into a CuDNN-optimized LSTM.\n",
    "# Outputs are disregarded for training but form the \"encoded\" representation.\n",
    "enc_x = Reshape((T_in, -1))(conv_x)\n",
    "encoded_output, hidden, cell = CuDNNLSTM(1024, return_state=True, return_sequences=False)(enc_x)\n",
    "\n",
    "# Decode model output.\n",
    "dec_raw_x = RepeatVector(T_pred)(encoded_output) # Input(shape=(None, 512,))\n",
    "dec_x, _, _ = CuDNNLSTM(1024, return_state=True, return_sequences=True)(dec_raw_x, initial_state=[hidden, cell])\n",
    "dec_x = TD(Reshape((8, 8, 16)))(dec_x)\n",
    "print(\"Exit seq2seq: \", dec_x.shape)\n",
    "\n",
    "# Upsample\n",
    "dec_x = TD(Conv2D(64, kernel_size=(3, 3), strides=(1,1), activation='relu'))(dec_x)\n",
    "dec_x = TD(UpSampling2D(size=(3, 3)))(dec_x)\n",
    "print(dec_x.shape)\n",
    "dec_x = TD(Conv2D(64, kernel_size=(4, 4), strides=(1,1), activation='relu'))(dec_x)\n",
    "dec_x = TD(UpSampling2D(size=(3, 3)))(dec_x)\n",
    "print(dec_x.shape)\n",
    "dec_x = TD(Conv2D(32, kernel_size=(4, 4), strides=(1,1), activation='relu'))(dec_x)\n",
    "dec_x = TD(UpSampling2D(size=(3, 3)))(dec_x)\n",
    "print(dec_x.shape)\n",
    "\n",
    "predictions = TD(Conv2D(3, kernel_size=(2,2), strides=(1,1), activation='sigmoid'))(dec_x)\n",
    "print(\"Final shape:\", predictions.shape)\n",
    "\n",
    "\n",
    "model = Model(inputs=inputs, outputs=predictions)"
   ]
  },
  {
   "cell_type": "code",
   "execution_count": null,
   "metadata": {},
   "outputs": [],
   "source": [
    "model.compile(optimizer=SGD(0.01), loss='binary_crossentropy')\n",
    "model.fit(X[:32], Y[:32], batch_size=8, epochs=40)"
   ]
  },
  {
   "cell_type": "code",
   "execution_count": null,
   "metadata": {},
   "outputs": [
    {
     "name": "stdout",
     "output_type": "stream",
     "text": [
      "Epoch 1/1\n",
      " 480/4096 [==>...........................] - ETA: 2:12 - loss: 0.7679"
     ]
    }
   ],
   "source": [
    "model.compile(optimizer=RMSprop(0.004), loss='binary_crossentropy')\n",
    "model.fit(X, Y, batch_size=32, epochs=1)"
   ]
  },
  {
   "cell_type": "code",
   "execution_count": null,
   "metadata": {},
   "outputs": [],
   "source": [
    "import numpy as np\n",
    "preds = model.predict(np.array(X[0:1]))\n",
    "import matplotlib.pyplot as plt\n",
    "plt.imshow(np.array(preds[0][1] * 255, dtype=np.uint8))\n",
    "plt.show()"
   ]
  }
 ],
 "metadata": {
  "kernelspec": {
   "display_name": "Environment (conda_tensorflow_p36)",
   "language": "python",
   "name": "conda_tensorflow_p36"
  },
  "language_info": {
   "codemirror_mode": {
    "name": "ipython",
    "version": 3
   },
   "file_extension": ".py",
   "mimetype": "text/x-python",
   "name": "python",
   "nbconvert_exporter": "python",
   "pygments_lexer": "ipython3",
   "version": "3.6.4"
  }
 },
 "nbformat": 4,
 "nbformat_minor": 2
}
